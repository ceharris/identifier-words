{
  "nbformat": 4,
  "nbformat_minor": 0,
  "metadata": {
    "colab": {
      "name": "Identifier Words.ipynb",
      "provenance": [],
      "collapsed_sections": [],
      "toc_visible": true,
      "authorship_tag": "ABX9TyP200N26bbb9mzsp5KtQGoP",
      "include_colab_link": true
    },
    "kernelspec": {
      "name": "python3",
      "display_name": "Python 3"
    }
  },
  "cells": [
    {
      "cell_type": "markdown",
      "metadata": {
        "id": "view-in-github",
        "colab_type": "text"
      },
      "source": [
        "<a href=\"https://colab.research.google.com/github/ceharris/identifier-words/blob/master/Identifier_Words.ipynb\" target=\"_parent\"><img src=\"https://colab.research.google.com/assets/colab-badge.svg\" alt=\"Open In Colab\"/></a>"
      ]
    },
    {
      "cell_type": "markdown",
      "metadata": {
        "id": "pvIDNbfw7vVz",
        "colab_type": "text"
      },
      "source": [
        "# Avoiding Identifiers with Embedded Recognizable Words\n",
        "\n",
        "Occasionally when generating random identifiers for proposals and agreements, Summit produces an identifier that contains a recognizable (English) word.\n",
        "\n",
        "Here are some examples seen in practice in the Summit production database.\n",
        "\n",
        "* `PHTHEPGK`\n",
        "* `PMSZOOK2`\n",
        "* `PLA4RFOX`\n",
        "* `PTITMGX7`\n",
        "* `PJ4YFGAY`\n",
        "\n",
        "When we generate an identifier we check to see if it contains any of a list of \"excluded\" words. However, as with any form of censorship, the list of excluded words is not (and cannot be) exhaustive for all circumstances.\n",
        "\n",
        "This raises the question as to what can be done to pre-emptively avoid generating identifiers that contain recognizable words without relying on a list of censored words.\n",
        "\n",
        "Formally stated:\n",
        "\n",
        "> _Can we exhaustively test each randomly generated identifier to determine whether it contains *any* word in a reasonably comprehensive dictionary of English words_ and do so without negatively affecting system performance?\n",
        "\n",
        "The perhaps somewhat surprising answer is _yes, we can_. And we can do so with minimal cost (time) in the contexts in which we generate such identifiers."
      ]
    },
    {
      "cell_type": "markdown",
      "metadata": {
        "id": "zZke36rXAcws",
        "colab_type": "text"
      },
      "source": [
        "### Dictionary Source\n",
        "\n",
        "Of course, this whole idea is predicated on the having _a reasonably comprehesive dictionary_ of English words. Is there a (hopefully open) source of English words that is reasonably comprehensive and in a form that we can easily utilize?\n",
        "\n",
        "Because of the prevalence of software tools that do spell check, autocorrect, and so forth it's not too surprising that there is indeed a source. In fact there are multiple sources. A commonly cited source is the [dwyl/english-words](https://github.com/dwyl/english-words) repository on GitHub. This repository is apparently widely used and well-respected. The word lists within are in plain text files that are line-delimited; one word per line. There are multiple variations of the word list available. We're interested in words formed by strictly alphabetic characters, so our analysis below will use the `words_alpha.txt` resource from this repository.\n"
      ]
    },
    {
      "cell_type": "markdown",
      "metadata": {
        "id": "j_TbTwuWCOHt",
        "colab_type": "text"
      },
      "source": [
        "### Preparing the Word List\n",
        "\n",
        "Let's start by reading the list to get a count of the number of words."
      ]
    },
    {
      "cell_type": "code",
      "metadata": {
        "id": "sb5zpQGtPwnV",
        "colab_type": "code",
        "colab": {
          "base_uri": "https://localhost:8080/",
          "height": 34
        },
        "outputId": "1f7465ac-b67e-4927-ab91-ac1259a4d3a5"
      },
      "source": [
        "import gzip\n",
        "with gzip.open(\"resources/words.txt.gz\", \"rt\") as words:\n",
        "    print(f\"{len(words.readlines()):,}\")"
      ],
      "execution_count": null,
      "outputs": [
        {
          "output_type": "stream",
          "text": [
            "370,103\n"
          ],
          "name": "stdout"
        }
      ]
    },
    {
      "cell_type": "markdown",
      "metadata": {
        "id": "zxilySWqyiFr",
        "colab_type": "text"
      },
      "source": [
        "That's a lot of words, but the DEFLATE algorithm used to compress the file (gzip) does a good job of reducing it."
      ]
    },
    {
      "cell_type": "code",
      "metadata": {
        "id": "SGLigP8xxOUv",
        "colab_type": "code",
        "colab": {
          "base_uri": "https://localhost:8080/",
          "height": 51
        },
        "outputId": "73246b09-4b90-4f01-840c-e6db93573759"
      },
      "source": [
        "!cat resources/words.txt.gz | wc -c\n",
        "!zcat resources/words.txt.gz | wc -c"
      ],
      "execution_count": 9,
      "outputs": [
        {
          "output_type": "stream",
          "text": [
            "1099745\n",
            "4234901\n"
          ],
          "name": "stdout"
        }
      ]
    },
    {
      "cell_type": "markdown",
      "metadata": {
        "id": "X6H1oP4QCbxS",
        "colab_type": "text"
      },
      "source": [
        "Identifiers in Summit are eight characters in length, so we really don't care about any words that are longer than eight characters. If we limit our attention to words that are no more than eight characters in length, it's a much smaller set of words."
      ]
    },
    {
      "cell_type": "code",
      "metadata": {
        "id": "4Sk_Vl4OC71L",
        "colab_type": "code",
        "colab": {
          "base_uri": "https://localhost:8080/",
          "height": 34
        },
        "outputId": "a3798feb-a59f-4257-8306-d87b91f4adfe"
      },
      "source": [
        "count = 0\n",
        "with gzip.open(\"resources/words.txt.gz\", \"rt\") as words:\n",
        "    for word in words.readlines():\n",
        "        if len(word.strip()) <= 8:\n",
        "            count += 1\n",
        "print(f\"{count:,}\")"
      ],
      "execution_count": null,
      "outputs": [
        {
          "output_type": "stream",
          "text": [
            "149,186\n"
          ],
          "name": "stdout"
        }
      ]
    },
    {
      "cell_type": "markdown",
      "metadata": {
        "id": "G6r0a2FaD5vD",
        "colab_type": "text"
      },
      "source": [
        "Of course, we can't care about single letter words. What about two letter words? Given the 26 letters of the alphabet, there are $26^2 = 626$ possible two letter words. How many two letter words are in the word list?\n",
        "\n"
      ]
    },
    {
      "cell_type": "code",
      "metadata": {
        "id": "KLYBZihXE__O",
        "colab_type": "code",
        "colab": {
          "base_uri": "https://localhost:8080/",
          "height": 34
        },
        "outputId": "f62c0b86-5819-4d81-b29e-aa522f95a46f"
      },
      "source": [
        "count = 0\n",
        "with gzip.open(\"resources/words.txt.gz\", \"rt\") as words:\n",
        "    for word in words.readlines():\n",
        "        if len(word.strip()) == 2:\n",
        "            count += 1\n",
        "print(f\"{count:,}\")"
      ],
      "execution_count": null,
      "outputs": [
        {
          "output_type": "stream",
          "text": [
            "427\n"
          ],
          "name": "stdout"
        }
      ]
    },
    {
      "cell_type": "markdown",
      "metadata": {
        "id": "guQZKVwcFPzF",
        "colab_type": "text"
      },
      "source": [
        "Of those 427 two letter words, can you think of a single example that would be generally recognizable as words _and_ could be considered offensive? I suppose, in some contexts _ho_ might be considered offensive, but if it appeared in a sequence of other letters and digits would it be recognizable as such? Stretching even further we might consider (and dismiss) _fu_. If that's all we can come up with, I think it's probably reasonable to exclude two letter words from our consideration too.\n",
        "\n",
        "Let's talk about why that matters."
      ]
    },
    {
      "cell_type": "markdown",
      "metadata": {
        "id": "1oLZIGxnGjST",
        "colab_type": "text"
      },
      "source": [
        "### Substrings of an Identifier\n",
        "\n",
        "When say there are recognizable words in an identifier it means that there's a segment of the identifier that matches a word in the dictionary. We call these segments _substrings_.\n"
      ]
    },
    {
      "cell_type": "markdown",
      "metadata": {
        "id": "Yzd6NbgwQLfA",
        "colab_type": "text"
      },
      "source": [
        "Given an identifier that is a total of 8 characters\n",
        "in length, such as `ABCDEFGH`, what are the possible non-empty substrings?\n",
        "\n",
        "* Length 8: `ABCDEFGH`\n",
        "* Length 7: `ABCDEFG`, `BCDEFGH`\n",
        "* Length 6: `ABCDEF`, `BCDEFG`, `CDEFGH`\n",
        "* ...\n",
        "\n",
        "You can probably see the pattern. The total number of substrings is going to be the sum of the \n",
        "first 8 natural numbers. In fact, we can easily see that it generalizes.\n",
        "\n",
        "For a string of length $n$ the number of non-empty substrings is given by\n",
        "\n",
        "\\begin{equation*}\n",
        "\\sum_{i=1}^n i = \\frac{n(n+1)}{2}\n",
        "\\end{equation*}\n",
        "\n",
        "If our identifiers are eight characters in length, there are 36 non-empty substrings to consider. But as we already observed, we don't need to bother with substrings of length 1 or 2.\n",
        "\n",
        "If we exclude substrings of length 1 or 2, we get\n",
        "\n",
        "\\begin{equation*}\n",
        "\\sum_{i=1}^n i - \\sum_{i=n-1}^{n} i = \\sum_{i=1}^{n-2} i = \\frac{(n-2)(n-1)}{2}\n",
        "\\end{equation*}\n",
        "\n",
        "For an identifier of length 8 we'll have 21 possible substrings with lengths between 3 and 8.\n"
      ]
    },
    {
      "cell_type": "markdown",
      "metadata": {
        "id": "WrbU2TdsPdhE",
        "colab_type": "text"
      },
      "source": [
        "### Probability of Finding a Match\n",
        "\n",
        "Let's briefly consider the probability of finding a match as it will influence our thinking about how large our dictionary should be.\n",
        "\n",
        "The symbol space for our identifiers is the [RFC 4648](https://tools.ietf.org/html/rfc4648) Base-32 alphabet, which consists of upper case letters A through Z plus digits 2 through 7. Our word matching\n",
        "algorithm will consider substrings of a randomly selected identifier to determine whether the\n",
        "substring appears in the dictionary. \n",
        "\n",
        "Assuming that our identifier is a string of eight characters selected from the Base32 alphabet using a uniform random distribution, the probability of producing a match for a given word $S$ of length $n$ is the product of the number of choices for each character. There are 32 choices for the first character, thirty two choices for the second character, etc.\n",
        "\n",
        "\\begin{equation*}\n",
        "32 \\times 32 \\times 32 \\times \\dots \\times 32 = (32)^n\n",
        "\\end{equation*}\n",
        "\n",
        "Some identifiers will contain digits, which will not be contained in any dictionary word, but this does not change the probability of finding a match.\n",
        "\n",
        "For a substring of a given length, we can therefore easily compute the probability of finding a match."
      ]
    },
    {
      "cell_type": "code",
      "metadata": {
        "id": "57XI3l1RQlXg",
        "colab_type": "code",
        "colab": {
          "base_uri": "https://localhost:8080/",
          "height": 119
        },
        "outputId": "21f58e60-7d66-47b7-b55e-bcb06436d1bd"
      },
      "source": [
        "for i in range(3, 9):\n",
        "    print(f\"length {i}: 1 in {32**i:>20,}\")"
      ],
      "execution_count": null,
      "outputs": [
        {
          "output_type": "stream",
          "text": [
            "length 3: 1 in               32,768\n",
            "length 4: 1 in            1,048,576\n",
            "length 5: 1 in           33,554,432\n",
            "length 6: 1 in        1,073,741,824\n",
            "length 7: 1 in       34,359,738,368\n",
            "length 8: 1 in    1,099,511,627,776\n"
          ],
          "name": "stdout"
        }
      ]
    },
    {
      "cell_type": "markdown",
      "metadata": {
        "id": "ocn1FxSMQqDm",
        "colab_type": "text"
      },
      "source": [
        "Given the realities of the probabilities shown above, do we really need to consider substrings longer than 5 or 6? The chances of finding a match for a\n",
        "6-character randomly generated string are less than one in a billion! To ponder this question further, let's consider dictionary size.\n",
        "\n",
        "### Dictionary Size\n",
        "Let's look at the number of words in the dictionary of lengths 3 through 8."
      ]
    },
    {
      "cell_type": "code",
      "metadata": {
        "id": "3cxYeJHgQygN",
        "colab_type": "code",
        "colab": {
          "base_uri": "https://localhost:8080/",
          "height": 153
        },
        "outputId": "5b7e70a1-c49c-4e83-a97b-41dcca6d2c09"
      },
      "source": [
        "import gzip\n",
        "import math\n",
        "counts = {}\n",
        "with gzip.open(\"resources/words.txt.gz\", \"rt\") as words:\n",
        "    for word in words.readlines():\n",
        "        word = word.strip()\n",
        "        length = len(word)\n",
        "        counts[length] = counts[length] + 1 if length in counts else 1\n",
        "\n",
        "cumulative_words = 0\n",
        "cumulative_size = 0\n",
        "last_cumulative_words = math.nan\n",
        "last_cumulative_size = math.nan\n",
        "print(\"  n          Words                  Size (chars)    \")\n",
        "print(\"  - ----------------------- -------------------------\")\n",
        "for k in sorted(counts):\n",
        "    if 3 <= k <= 8:\n",
        "        cumulative_words += counts[k]\n",
        "        cumulative_size += k*counts[k]\n",
        "        increase_words = 100*cumulative_words/last_cumulative_words if last_cumulative_words is not math.nan else 0\n",
        "        increase_size = 100*cumulative_size/last_cumulative_size if last_cumulative_words is not math.nan else 0\n",
        "        print(f\"{k:>3} {counts[k]:>8,} {cumulative_words:>8,} {increase_words:>4.0f}% {k*counts[k]:>8,} {cumulative_size:>10,} {increase_size:>4.0f}%\")\n",
        "        last_cumulative_words = cumulative_words\n",
        "        last_cumulative_size = cumulative_size"
      ],
      "execution_count": null,
      "outputs": [
        {
          "output_type": "stream",
          "text": [
            "  n          Words                  Size (chars)    \n",
            "  - ----------------------- -------------------------\n",
            "  3    2,130    2,130    0%    6,390      6,390    0%\n",
            "  4    7,186    9,316  437%   28,744     35,134  550%\n",
            "  5   15,918   25,234  271%   79,590    114,724  327%\n",
            "  6   29,874   55,108  218%  179,244    293,968  256%\n",
            "  7   41,998   97,106  176%  293,986    587,954  200%\n",
            "  8   51,627  148,733  153%  413,016  1,000,970  170%\n"
          ],
          "name": "stdout"
        }
      ]
    },
    {
      "cell_type": "markdown",
      "metadata": {
        "id": "dwwzETfOSBmS",
        "colab_type": "text"
      },
      "source": [
        "The columns here provide the quantity, cumulative sum, and percentage increase for both words and size (in characters), for words of at least three and at most eight characters in length.\n",
        "\n",
        "Looking at the last row of the data, if we include words in our dictionary that are between 3 and 8 characters long, the dictionary will have about 150,000 words and will be about 1 million characters (~1 MiB) in size. Based our our previous analysis, assuming that we use this dictionary and check all substrings of our identifier that have a length between 3 and 8,\n",
        "the probability that we will _not_ exclude an identifier that contains a recognizable word is less than 1 in a trillion.\n",
        "\n",
        "Looking more closely at the above table, notice that a dictionary of words of up to length 5 contains about one-sixth the number of words and is about one-tenth the total size of a dictionary that contains words\n",
        "up to length 8. Based on our previous analysis, by not considering words of lengths 6, 7, or 8, there is a greater probability of _not_ excluding an identifier that contains a recognizable word, but how significant is that probability? If we don't consider words of length 6 through 8, the probability of missing such a word is the sum of the probabilities that we\n",
        "would randomly generate a dictionary word at any of those lengths. For example, the probability of randomly generating a string of length 6 that\n",
        "matches a dictionary word is one in a billion; it doesn't get better for words that are longer.\n",
        "\n",
        "Obviously, having a smaller dictionary will save resources. It will take less space to store it in memory (and in persistent storage). It will take less time to load it from persistent storage into memory. Assuming that we will load the dictionary into a hash table, a smaller dictionary may reduce the likelihood of hash collisions which will help ensure that\n",
        "there are fewer outliers for the _O(1)_ time complexity that we would expect on average when searching in a hash table.\n",
        "\n",
        "We might reasonably wonder, however, is there really any measurable difference in performance for different dictionary sizes?"
      ]
    },
    {
      "cell_type": "markdown",
      "metadata": {
        "id": "tjJMm8qYSjF9",
        "colab_type": "text"
      },
      "source": [
        "### Characteristic Time Complexity Analysis\n",
        "\n",
        "It is obvious that a dictionary with fewer words will reduce the size of memory needed to store it. But will a smaller dictionary result in significantly better search performance? \n",
        "\n",
        "As we try to find recognizable words using substrings of a randomly generated identifier, we know that the number of non-empty substrings we must test is the sum of the first $N-2$ natural numbers where $N$ is the length \n",
        "of the substring. It's $N-2$ because we don't consider substrings of length 1 or 2. If we consider substrings of length 3 to 8, we will need to search our  dictionary 21 times. Dropping off the substrings at the longer lengths will not significantly change the number of searches needed; there is only one \n",
        "substring of length 8 in an identifier of length 8, there are only two substrings of length 7 in an identifier of length 8, etc.\n",
        "\n",
        "Since the number of searches needed is nearly constant, the most important question is how long will it take to determine whether a given word is in\n",
        "the dictionary?\n",
        "\n",
        "We know that, on average, a search of a hash table has \n",
        "_O(1)_ time complexity when a match is found. Whether we stay close to that average depends a great deal on the quality of the hash function. An ideal hash function will distribute our words uniformly throughout the hash space. If our hash function is less effective, we'll end up needing to perform additional comparisons to see if what appears to be a match is really a match.\n",
        "\n",
        "Moreover, a significant aspect of the performance of our hash table will depend on how quickly the selected algorithm can determine that a given string is _not_ in the table. This is important because _most_ searches for substrings of our random generated identifier are _expected to fail_. We know this from the probabilities that we already discussed. \n",
        "\n",
        "A common hash table design uses the hash function as the starting point for a sequential search. When inserting entries into the hash table, it generates a hash for the input and uses the hash value as an index (modulo the table size) to find the corresponding table index. If that table entry is unused, it places the input into the table at that index. If another input with the same hash value is already in the table at that index, the algorithm sequentially searches for the next unused table entry and puts the new input there. \n",
        "\n",
        "When searching for an entry in the table, it hashes the input and uses the hash to compute the first table entry to compare. If the value at the first table entry considered is a match for the input, that's great! We found our entry in _O(1)_ time! But if the first entry tested is not a match, now the algorithm begins searching sequentially through the table. If the input really is in the table, it will often be \"nearby\" because that's the way the values are inserted into the table. But what if the input we seek is _not_ in the table? In that case, the search could revert to _O(n)_ for a table size of $n$. \n",
        "\n",
        "Earlier we questioned whether the number of words in the dictionary could make a performance difference. Since _most_ of our searches for randomly generated identifiers are expected to fail, it's easy to see how a simplistic hash table algorithm such as the one described above could make the size of the hash table a _significant_ consideration.\n",
        "\n",
        "We won't want to write our own hash function or implement our own hash table algorithm. Instead, we'll likely use a _Set_ data structure provided as part of the library with our language. A _Set_ data structure that can hold an arbitrary number of elements is often implemented as an array of linked lists. In this algorithm, the hash function is used to find the right \"bucket\" in the array for a given input. Each bucket points to the head of a linked list that holds all members of the set that produce the same hash value. If the hash function is reasonably uniform, and the hash table is large enough, the size of the list attached to each bucket in the array will be small and fairly consistent across the entire hash table. Therefore the time that it takes to determine whether a given element is a member of the set is _O(1)_ on average even when the input element we are testing is _not_ in the set."
      ]
    },
    {
      "cell_type": "markdown",
      "metadata": {
        "id": "HAw5vGkllbqM",
        "colab_type": "text"
      },
      "source": [
        "### Measuring Elapsed Times for Successful Searches\n",
        "The theory seems reasonable, but how does all of this work out in practice? Let's start by loading dictionaries containing words of lengths at least 3 and at most 5, 6, 7 or 8. When a given dictionary is loaded, let's randomly select words from the  dictionary and measure how long it takes to determine that the given word is in fact contained in the dictionary. Let's do this one hundred thousand times for each of our dictionaries. This should give us a very good sense of how long a successful search takes for a dictionary of a given size and whether the size of the dictionary is a significant consideration (for successful) searches at our chosen scale."
      ]
    },
    {
      "cell_type": "markdown",
      "metadata": {
        "id": "yGhBuQqsJ8Q3",
        "colab_type": "text"
      },
      "source": [
        "In order to make our work easier, let's split the list of words out into files containing words of length 3, words of length 4, etc. This will make it easy for us to assemble a dictionary that contains only the word lengths of interest for our analysis."
      ]
    },
    {
      "cell_type": "code",
      "metadata": {
        "id": "0YMDjEr3KTpE",
        "colab_type": "code",
        "colab": {}
      },
      "source": [
        "counts = {}\n",
        "with gzip.open(\"resources/words.txt.gz\", \"rt\") as words:\n",
        "    with open(\"resources/words3.txt\", \"wt\") as words3:\n",
        "        with open(\"resources/words4.txt\", \"wt\") as words4:\n",
        "            with open(\"resources/words5.txt\", \"wt\") as words5:\n",
        "                with open(\"resources/words6.txt\", \"wt\") as words6:\n",
        "                    with open(\"resources/words7.txt\", \"wt\") as words7:\n",
        "                        with open(\"resources/words8.txt\", \"wt\") as words8:\n",
        "                            for word in words.readlines():\n",
        "                                word = word.strip().upper()\n",
        "                                length = len(word)\n",
        "                                counts[length] = counts[length] + 1 if length in counts else 1\n",
        "                                if length < 3 or length > 8:\n",
        "                                    continue\n",
        "                                elif length == 3:\n",
        "                                    print(word, file=words3)\n",
        "                                elif length == 4:\n",
        "                                    print(word, file=words4)\n",
        "                                elif length == 5:\n",
        "                                    print(word, file=words5)\n",
        "                                elif length == 6:\n",
        "                                    print(word, file=words6)\n",
        "                                elif length == 7:\n",
        "                                    print(word, file=words7)\n",
        "                                elif length == 8:\n",
        "                                    print(word, file=words8)"
      ],
      "execution_count": null,
      "outputs": []
    },
    {
      "cell_type": "markdown",
      "metadata": {
        "id": "4S_6Ahr1J1RK",
        "colab_type": "text"
      },
      "source": [
        "Now let's define a function that can load a set of words up to a maximum length."
      ]
    },
    {
      "cell_type": "code",
      "metadata": {
        "id": "czj8RjAjTcKZ",
        "colab_type": "code",
        "colab": {}
      },
      "source": [
        "def load_words(max_length):\n",
        "    words = set()\n",
        "    for j in range(3, max_length + 1):\n",
        "        with open(f\"resources/words{max_length}.txt\", \"rt\") as f:\n",
        "            for word in f.readlines():\n",
        "                words.add(word.strip())\n",
        "    return words"
      ],
      "execution_count": null,
      "outputs": []
    },
    {
      "cell_type": "markdown",
      "metadata": {
        "id": "wStVgb2VTh9W",
        "colab_type": "text"
      },
      "source": [
        "The `load_words` function creates an empty set and then loads the words in the specified range of lengths from file resources we created earlier."
      ]
    },
    {
      "cell_type": "markdown",
      "metadata": {
        "id": "YrV5BGWRTow9",
        "colab_type": "text"
      },
      "source": [
        "To do the timing analysis, we'll need the `timeit` and `random` modules included in the Python SDK."
      ]
    },
    {
      "cell_type": "code",
      "metadata": {
        "id": "7xt44XshTwYc",
        "colab_type": "code",
        "colab": {}
      },
      "source": [
        "import timeit\n",
        "import random"
      ],
      "execution_count": null,
      "outputs": []
    },
    {
      "cell_type": "markdown",
      "metadata": {
        "id": "SIqdfAH-T1hC",
        "colab_type": "text"
      },
      "source": [
        "The code to produce the analytic results isn't long or complicated, but it is little bit subtle. Let's take a look."
      ]
    },
    {
      "cell_type": "code",
      "metadata": {
        "id": "oGssMGFwT-bi",
        "colab_type": "code",
        "colab": {
          "base_uri": "https://localhost:8080/",
          "height": 85
        },
        "outputId": "c1307fbe-3be6-49d1-a7d8-35f321295985"
      },
      "source": [
        "results = dict()\n",
        "for max_length in range(5, 9):\n",
        "    words = load_words(max_length)\n",
        "    wg = None\n",
        "\n",
        "    def word_generator():\n",
        "        seq = [word for word in words]\n",
        "        while True:\n",
        "            random.shuffle(seq)\n",
        "            for word in seq:\n",
        "                yield word\n",
        "\n",
        "    def test_next_word():\n",
        "        return next(wg) in words\n",
        "\n",
        "    elapsed_times = list()\n",
        "    wg = iter(word_generator())\n",
        "\n",
        "    print(f\"max_length={max_length}: \", end=\"\")\n",
        "    for trial in range(100000):\n",
        "        if trial % 10000 == 0:\n",
        "            print(f\"{trial // 10000} \", end=\"\")\n",
        "        elapsed_usec = 1000000 * timeit.timeit(test_next_word, number=1)\n",
        "        elapsed_times.append(elapsed_usec)\n",
        "    print()\n",
        "    \n",
        "    results[max_length] = elapsed_times"
      ],
      "execution_count": null,
      "outputs": [
        {
          "output_type": "stream",
          "text": [
            "max_length=5: 0 1 2 3 4 5 6 7 8 9 \n",
            "max_length=6: 0 1 2 3 4 5 6 7 8 9 \n",
            "max_length=7: 0 1 2 3 4 5 6 7 8 9 \n",
            "max_length=8: 0 1 2 3 4 5 6 7 8 9 \n"
          ],
          "name": "stdout"
        }
      ]
    },
    {
      "cell_type": "markdown",
      "metadata": {
        "id": "DtSiOrHoYd1i",
        "colab_type": "text"
      },
      "source": [
        "We start with an empty `results` dict and we loop for maximum word lengths between 5 and 8 (inclusive). For a given maximum word length, we load the set of words. \n",
        "To randomly select words from the set of words, we use a generator function; `word_generator`. The generator function creates a sequence containing all of the words and then shuffles it into a random order. It then yields the next word for each step of an iteration. If we ask the generator to yield more words than the dictionary contains, it reshuffles the sequence and starts over.\n",
        "\n",
        "In the `test_next_word` function we ask the generator function for the next word and we use the `in` operator to test whether the given word is in the dictionary. The answer will always be true since the word came from the dictionary. We return the True result anyway.\n",
        "\n",
        "After the definition of the generator function and the word test function, we initialize an empty list to hold elapsed times. We create an iterator using the\n",
        "generator function, and then we loop one hundred thousand times. At each iteration of the loop, we measure the time it takes to test whether the next randomly selected word is in the set of all words. \n",
        "We use `timeit` to get the elapsed time for invoking `test_next_word` The elapsed time is returned as a floating-point value of seconds. We scale it to microseconds and append the elapsed time to the list.\n",
        "\n",
        "We store the list of elapsed times in the `results` dict, using the maximum word length as the key.\n",
        "\n",
        "We can then use [Pandas](https://pandas.pydata.org) to help us do some basic analysis of the results."
      ]
    },
    {
      "cell_type": "code",
      "metadata": {
        "id": "Om47iss9UB6h",
        "colab_type": "code",
        "colab": {
          "base_uri": "https://localhost:8080/",
          "height": 297
        },
        "outputId": "208ae97b-d8ca-4ae5-fe71-3ce179f21a0c"
      },
      "source": [
        "import pandas\n",
        "pandas.set_option(\"display.precision\", 3)\n",
        "df = pandas.DataFrame(results)\n",
        "df.describe()"
      ],
      "execution_count": null,
      "outputs": [
        {
          "output_type": "execute_result",
          "data": {
            "text/html": [
              "<div>\n",
              "<style scoped>\n",
              "    .dataframe tbody tr th:only-of-type {\n",
              "        vertical-align: middle;\n",
              "    }\n",
              "\n",
              "    .dataframe tbody tr th {\n",
              "        vertical-align: top;\n",
              "    }\n",
              "\n",
              "    .dataframe thead th {\n",
              "        text-align: right;\n",
              "    }\n",
              "</style>\n",
              "<table border=\"1\" class=\"dataframe\">\n",
              "  <thead>\n",
              "    <tr style=\"text-align: right;\">\n",
              "      <th></th>\n",
              "      <th>5</th>\n",
              "      <th>6</th>\n",
              "      <th>7</th>\n",
              "      <th>8</th>\n",
              "    </tr>\n",
              "  </thead>\n",
              "  <tbody>\n",
              "    <tr>\n",
              "      <th>count</th>\n",
              "      <td>100000.000</td>\n",
              "      <td>100000.000</td>\n",
              "      <td>100000.000</td>\n",
              "      <td>100000.000</td>\n",
              "    </tr>\n",
              "    <tr>\n",
              "      <th>mean</th>\n",
              "      <td>1.546</td>\n",
              "      <td>1.643</td>\n",
              "      <td>1.705</td>\n",
              "      <td>1.611</td>\n",
              "    </tr>\n",
              "    <tr>\n",
              "      <th>std</th>\n",
              "      <td>89.644</td>\n",
              "      <td>125.869</td>\n",
              "      <td>155.270</td>\n",
              "      <td>159.471</td>\n",
              "    </tr>\n",
              "    <tr>\n",
              "      <th>min</th>\n",
              "      <td>0.435</td>\n",
              "      <td>0.486</td>\n",
              "      <td>0.472</td>\n",
              "      <td>0.502</td>\n",
              "    </tr>\n",
              "    <tr>\n",
              "      <th>25%</th>\n",
              "      <td>0.666</td>\n",
              "      <td>0.695</td>\n",
              "      <td>0.714</td>\n",
              "      <td>0.750</td>\n",
              "    </tr>\n",
              "    <tr>\n",
              "      <th>50%</th>\n",
              "      <td>0.732</td>\n",
              "      <td>0.765</td>\n",
              "      <td>0.785</td>\n",
              "      <td>0.826</td>\n",
              "    </tr>\n",
              "    <tr>\n",
              "      <th>75%</th>\n",
              "      <td>0.826</td>\n",
              "      <td>0.865</td>\n",
              "      <td>0.890</td>\n",
              "      <td>0.937</td>\n",
              "    </tr>\n",
              "    <tr>\n",
              "      <th>max</th>\n",
              "      <td>14052.124</td>\n",
              "      <td>21571.442</td>\n",
              "      <td>31010.393</td>\n",
              "      <td>37695.831</td>\n",
              "    </tr>\n",
              "  </tbody>\n",
              "</table>\n",
              "</div>"
            ],
            "text/plain": [
              "                5           6           7           8\n",
              "count  100000.000  100000.000  100000.000  100000.000\n",
              "mean        1.546       1.643       1.705       1.611\n",
              "std        89.644     125.869     155.270     159.471\n",
              "min         0.435       0.486       0.472       0.502\n",
              "25%         0.666       0.695       0.714       0.750\n",
              "50%         0.732       0.765       0.785       0.826\n",
              "75%         0.826       0.865       0.890       0.937\n",
              "max     14052.124   21571.442   31010.393   37695.831"
            ]
          },
          "metadata": {
            "tags": []
          },
          "execution_count": 10
        }
      ]
    },
    {
      "cell_type": "markdown",
      "metadata": {
        "id": "tfk1rv41mjpV",
        "colab_type": "text"
      },
      "source": [
        "The Pandas `DataFrame` is a two-dimensional data structure. We create it using the `results` dict from our measurement process. The data frame has a column for each of the maximum word lengths for which we generated elapsed times in the measurement process. The rows are the corresponding elapsed times. The `describe` method produces a useful table of descriptive statistics."
      ]
    },
    {
      "cell_type": "markdown",
      "metadata": {
        "id": "xsf-dHsbX8eO",
        "colab_type": "text"
      },
      "source": [
        "Notice how the maximum elapsed times shown in the bottom row of the table are _much_ larger than the mean, the median, and the percentiles shown? This indicates we have some outliers. The maximum observed elapsed times in the bottom row are _four orders of magnitude larger than the mean_. These outliers will create a lot of skew that will impact our ability to understand of expected elapsed time.\n",
        "\n",
        "Let's look at a some of the upper quantiles to see how frequently these large elapsed times occur."
      ]
    },
    {
      "cell_type": "code",
      "metadata": {
        "id": "yBfApvhda6_G",
        "colab_type": "code",
        "colab": {
          "base_uri": "https://localhost:8080/",
          "height": 328
        },
        "outputId": "f70f6bed-4179-476e-82f8-f161519a5598"
      },
      "source": [
        "df.describe(percentiles=[0.9, 0.99, 0.999])"
      ],
      "execution_count": null,
      "outputs": [
        {
          "output_type": "execute_result",
          "data": {
            "text/html": [
              "<div>\n",
              "<style scoped>\n",
              "    .dataframe tbody tr th:only-of-type {\n",
              "        vertical-align: middle;\n",
              "    }\n",
              "\n",
              "    .dataframe tbody tr th {\n",
              "        vertical-align: top;\n",
              "    }\n",
              "\n",
              "    .dataframe thead th {\n",
              "        text-align: right;\n",
              "    }\n",
              "</style>\n",
              "<table border=\"1\" class=\"dataframe\">\n",
              "  <thead>\n",
              "    <tr style=\"text-align: right;\">\n",
              "      <th></th>\n",
              "      <th>5</th>\n",
              "      <th>6</th>\n",
              "      <th>7</th>\n",
              "      <th>8</th>\n",
              "    </tr>\n",
              "  </thead>\n",
              "  <tbody>\n",
              "    <tr>\n",
              "      <th>count</th>\n",
              "      <td>100000.000</td>\n",
              "      <td>100000.000</td>\n",
              "      <td>100000.000</td>\n",
              "      <td>100000.000</td>\n",
              "    </tr>\n",
              "    <tr>\n",
              "      <th>mean</th>\n",
              "      <td>1.546</td>\n",
              "      <td>1.643</td>\n",
              "      <td>1.705</td>\n",
              "      <td>1.611</td>\n",
              "    </tr>\n",
              "    <tr>\n",
              "      <th>std</th>\n",
              "      <td>89.644</td>\n",
              "      <td>125.869</td>\n",
              "      <td>155.270</td>\n",
              "      <td>159.471</td>\n",
              "    </tr>\n",
              "    <tr>\n",
              "      <th>min</th>\n",
              "      <td>0.435</td>\n",
              "      <td>0.486</td>\n",
              "      <td>0.472</td>\n",
              "      <td>0.502</td>\n",
              "    </tr>\n",
              "    <tr>\n",
              "      <th>50%</th>\n",
              "      <td>0.732</td>\n",
              "      <td>0.765</td>\n",
              "      <td>0.785</td>\n",
              "      <td>0.826</td>\n",
              "    </tr>\n",
              "    <tr>\n",
              "      <th>90%</th>\n",
              "      <td>0.997</td>\n",
              "      <td>1.044</td>\n",
              "      <td>1.069</td>\n",
              "      <td>1.125</td>\n",
              "    </tr>\n",
              "    <tr>\n",
              "      <th>99%</th>\n",
              "      <td>1.543</td>\n",
              "      <td>1.574</td>\n",
              "      <td>1.624</td>\n",
              "      <td>1.652</td>\n",
              "    </tr>\n",
              "    <tr>\n",
              "      <th>99.9%</th>\n",
              "      <td>7.533</td>\n",
              "      <td>8.902</td>\n",
              "      <td>8.614</td>\n",
              "      <td>8.803</td>\n",
              "    </tr>\n",
              "    <tr>\n",
              "      <th>max</th>\n",
              "      <td>14052.124</td>\n",
              "      <td>21571.442</td>\n",
              "      <td>31010.393</td>\n",
              "      <td>37695.831</td>\n",
              "    </tr>\n",
              "  </tbody>\n",
              "</table>\n",
              "</div>"
            ],
            "text/plain": [
              "                5           6           7           8\n",
              "count  100000.000  100000.000  100000.000  100000.000\n",
              "mean        1.546       1.643       1.705       1.611\n",
              "std        89.644     125.869     155.270     159.471\n",
              "min         0.435       0.486       0.472       0.502\n",
              "50%         0.732       0.765       0.785       0.826\n",
              "90%         0.997       1.044       1.069       1.125\n",
              "99%         1.543       1.574       1.624       1.652\n",
              "99.9%       7.533       8.902       8.614       8.803\n",
              "max     14052.124   21571.442   31010.393   37695.831"
            ]
          },
          "metadata": {
            "tags": []
          },
          "execution_count": 11
        }
      ]
    },
    {
      "cell_type": "markdown",
      "metadata": {
        "id": "XP448oY7bNHn",
        "colab_type": "text"
      },
      "source": [
        "Now we can easily see that\n",
        "* 90% of the elapsed times are less than 1 microsecond\n",
        "* 99% of the elasped times are less than about 1.5 microseconds. \n",
        "\n",
        "It seems unlikely that these larger variations in elapsed time are caused by the implementation of the Set data type in Python. It seems much more reasonable to conclude it is the result of scheduling delays in running this notebook. \n",
        "\n",
        "We could (and I did) easily validate this conclusion by running the same analysis on a system with fewer layers of virtualization. On my MacBook Pro (mid-2015, 2.5 GHz, 16 GB RAM) I get results very similar to those below the 99th percentile of this dataset, but with no larger outliers.\n",
        "\n",
        "Therefore, in order to better see the distribution of the more realistic elapsed times in this data set, let's filter out the elapsed times that exceed the 99th percentile. Pandas makes it easy to do this, but the paradigm for doing so is admittedly a bit esoteric.\n"
      ]
    },
    {
      "cell_type": "code",
      "metadata": {
        "id": "SQcisxoUgCyj",
        "colab_type": "code",
        "colab": {}
      },
      "source": [
        "df_filtered = df.copy()\n",
        "for i in range(5, 9):\n",
        "  df_filtered.loc[df_filtered[i] > df_filtered[i].quantile(0.99), i] = math.nan"
      ],
      "execution_count": null,
      "outputs": []
    },
    {
      "cell_type": "markdown",
      "metadata": {
        "id": "bWR2rhP4gmOQ",
        "colab_type": "text"
      },
      "source": [
        "In order to preserve our original sample data set, we create a copy of the data frame before we begin to manipulate it.\n",
        "\n",
        "The columns in the the data frame correspond to maximum word lengths of 5, 6, 7, and 8. In the column for each maximum word length, we find all of the elapsed times that exceed the 99th percentile and replace them with a floating point _NaN_. These values will therefore be treated as missing data.\n",
        "\n",
        "Now if we describe the data frame, we will see that the count of samples varies from the 100,000 originally collected for each maximum word length, because of the elapsed times that we've excluded as outliers. The other characteristics of the distribution look much more reasonable now."
      ]
    },
    {
      "cell_type": "code",
      "metadata": {
        "id": "6yp4jcT2hLP2",
        "colab_type": "code",
        "colab": {
          "base_uri": "https://localhost:8080/",
          "height": 266
        },
        "outputId": "2fff672f-f517-45d5-90fd-f8b07930a85d"
      },
      "source": [
        "df_filtered.describe(percentiles=[0.9])"
      ],
      "execution_count": null,
      "outputs": [
        {
          "output_type": "execute_result",
          "data": {
            "text/html": [
              "<div>\n",
              "<style scoped>\n",
              "    .dataframe tbody tr th:only-of-type {\n",
              "        vertical-align: middle;\n",
              "    }\n",
              "\n",
              "    .dataframe tbody tr th {\n",
              "        vertical-align: top;\n",
              "    }\n",
              "\n",
              "    .dataframe thead th {\n",
              "        text-align: right;\n",
              "    }\n",
              "</style>\n",
              "<table border=\"1\" class=\"dataframe\">\n",
              "  <thead>\n",
              "    <tr style=\"text-align: right;\">\n",
              "      <th></th>\n",
              "      <th>5</th>\n",
              "      <th>6</th>\n",
              "      <th>7</th>\n",
              "      <th>8</th>\n",
              "    </tr>\n",
              "  </thead>\n",
              "  <tbody>\n",
              "    <tr>\n",
              "      <th>count</th>\n",
              "      <td>99001.000</td>\n",
              "      <td>99000.000</td>\n",
              "      <td>99000.000</td>\n",
              "      <td>99002.000</td>\n",
              "    </tr>\n",
              "    <tr>\n",
              "      <th>mean</th>\n",
              "      <td>0.771</td>\n",
              "      <td>0.805</td>\n",
              "      <td>0.827</td>\n",
              "      <td>0.868</td>\n",
              "    </tr>\n",
              "    <tr>\n",
              "      <th>std</th>\n",
              "      <td>0.162</td>\n",
              "      <td>0.166</td>\n",
              "      <td>0.171</td>\n",
              "      <td>0.176</td>\n",
              "    </tr>\n",
              "    <tr>\n",
              "      <th>min</th>\n",
              "      <td>0.435</td>\n",
              "      <td>0.486</td>\n",
              "      <td>0.472</td>\n",
              "      <td>0.502</td>\n",
              "    </tr>\n",
              "    <tr>\n",
              "      <th>50%</th>\n",
              "      <td>0.730</td>\n",
              "      <td>0.763</td>\n",
              "      <td>0.784</td>\n",
              "      <td>0.825</td>\n",
              "    </tr>\n",
              "    <tr>\n",
              "      <th>90%</th>\n",
              "      <td>0.978</td>\n",
              "      <td>1.025</td>\n",
              "      <td>1.050</td>\n",
              "      <td>1.105</td>\n",
              "    </tr>\n",
              "    <tr>\n",
              "      <th>max</th>\n",
              "      <td>1.543</td>\n",
              "      <td>1.574</td>\n",
              "      <td>1.624</td>\n",
              "      <td>1.652</td>\n",
              "    </tr>\n",
              "  </tbody>\n",
              "</table>\n",
              "</div>"
            ],
            "text/plain": [
              "               5          6          7          8\n",
              "count  99001.000  99000.000  99000.000  99002.000\n",
              "mean       0.771      0.805      0.827      0.868\n",
              "std        0.162      0.166      0.171      0.176\n",
              "min        0.435      0.486      0.472      0.502\n",
              "50%        0.730      0.763      0.784      0.825\n",
              "90%        0.978      1.025      1.050      1.105\n",
              "max        1.543      1.574      1.624      1.652"
            ]
          },
          "metadata": {
            "tags": []
          },
          "execution_count": 13
        }
      ]
    },
    {
      "cell_type": "markdown",
      "metadata": {
        "id": "ATHZRpYniNmT",
        "colab_type": "text"
      },
      "source": [
        "One thing that's immediately apparent from these descriptive measures of the distribution is that the size of the set of words has little bearing on the time it takes to determine that a given word is in the set. The last column shows us that that 90% of our elapsed times for completing a successful search were approximately 1 microsecond.\n"
      ]
    },
    {
      "cell_type": "markdown",
      "metadata": {
        "id": "ehHGrP4BizAe",
        "colab_type": "text"
      },
      "source": [
        "Now we can easily ask Pandas to plot the Kernel Density Estimate (KDE) which will give us an approximation of what each of these distributions look like."
      ]
    },
    {
      "cell_type": "code",
      "metadata": {
        "id": "GpEEN6hljA-E",
        "colab_type": "code",
        "colab": {
          "base_uri": "https://localhost:8080/",
          "height": 281
        },
        "outputId": "212bb9a1-c2a6-4ad4-98b4-9769d6c6b985"
      },
      "source": [
        "kde_plot = df_filtered.plot.kde(title=\"Kernel Density Estimate\")"
      ],
      "execution_count": null,
      "outputs": [
        {
          "output_type": "display_data",
          "data": {
            "image/png": "[encoded data removed]",
            "text/plain": [
              "<Figure size 432x288 with 1 Axes>"
            ]
          },
          "metadata": {
            "tags": [],
            "needs_background": "light"
          }
        }
      ]
    },
    {
      "cell_type": "markdown",
      "metadata": {
        "id": "lDAowY0WjGfl",
        "colab_type": "text"
      },
      "source": [
        "The horizontal axis here is elapsed time in microseconds. The vertical axis can be thought of as an estimate of frequency. The shape is quite similar to a Normal distribution. The variation on the right side can probably be attributed to the same kinds of phenomena that led us to exclude the largest outliers."
      ]
    },
    {
      "cell_type": "markdown",
      "metadata": {
        "id": "jal1f3WdkyEC",
        "colab_type": "text"
      },
      "source": [
        "#### So what does this really tell us?\n",
        "\n",
        "The takeaway here is that search times for finding words that are in the dictionary are generally very consistent and (for the most part) normally distributed. This suggests that the Set implementation in Python 3 is pretty good, at least at the scale for which we are testing.\n",
        "\n",
        "Keep in mind that these results are all for _successful_ tests of membership, however. Successful searches are likely to take less time than unsuccessful searches based on our prior discussion of hash table implementations."
      ]
    },
    {
      "cell_type": "markdown",
      "metadata": {
        "id": "MUp-9INUlTof",
        "colab_type": "text"
      },
      "source": [
        "### Measuring Elapsed Times for Unsuccessful Searches\n",
        "\n",
        "As previously noted, when searching for substrings of a randomly generated identifier, we expect most searches to be unsuccessful. We know this from our analysis of the probabilties for generating a random string that matches a dictionary word of a given length. \n",
        "\n",
        "We now know that a typical implementation of a Set data structure (in Python) has a near Normal distribution of expected search times, with a narrow band of significant variation; i.e. the curve is tall and skinny. This tells us that successful searches will have consistent, predictable performance.\n",
        "\n",
        "Now let's produce data for unsuccessful dictionary searches. The basic idea is to generate random strings of characters of lengths from 3 to the maximum word size in a given dictionary, and to measure the elapsed time of testing for a match. Just as we did for successful searches, we'll test one hundred thousand randomly generated character strings against dictionaries with maximum word lengths of 5, 6, 7, and 8.\n",
        "\n",
        "If happen to generate word that does appear in the dictionary, we'll get an elapsed time similar to what we saw in the prior analysis, which could tend to skew our results. The probability of finding matches for words of lengths 3 or 4 is high enough that in 100,000 samples we'll have a few matches. We might be able to discern that in the Kernel Density Estimate when we plot the results."
      ]
    },
    {
      "cell_type": "markdown",
      "metadata": {
        "id": "UqIBtczgqrGC",
        "colab_type": "text"
      },
      "source": [
        "Well need another utility module from the Python SDK. The `string` module contains a useful definition of all ASCII uppercase letters which we'll use in generating random strings to test."
      ]
    },
    {
      "cell_type": "code",
      "metadata": {
        "id": "anQ1hZfssu-e",
        "colab_type": "code",
        "colab": {}
      },
      "source": [
        "import string"
      ],
      "execution_count": null,
      "outputs": []
    },
    {
      "cell_type": "markdown",
      "metadata": {
        "id": "Hld3vTEftQGa",
        "colab_type": "text"
      },
      "source": [
        "The code we use to generate our timing results is structurally and conceptually similar to what we use for successful searches. The principal difference is just that the generator function `word_generator` yields random strings of randomly selected lengths within the range of lengths in the set of words under test."
      ]
    },
    {
      "cell_type": "code",
      "metadata": {
        "id": "L7K9GJNSswKR",
        "colab_type": "code",
        "colab": {
          "base_uri": "https://localhost:8080/",
          "height": 85
        },
        "outputId": "ca5e1874-fad1-4e17-f7e0-544d4f178402"
      },
      "source": [
        "results = dict()\n",
        "for max_length in range(5, 9):\n",
        "    words = load_words(max_length)\n",
        "    wg = None\n",
        "\n",
        "    def word_generator():\n",
        "        while True:\n",
        "            length = random.randrange(3, max_length + 1)\n",
        "            letters = [random.choice(string.ascii_uppercase) for i in range(length)]\n",
        "            word = \"\".join(letters)\n",
        "            yield word\n",
        "\n",
        "    def test_next_word():\n",
        "        return next(wg) in words\n",
        "\n",
        "    elapsed_times = []\n",
        "    wg = iter(word_generator())\n",
        "\n",
        "    print(f\"max_length={max_length}: \", end=\"\")\n",
        "    for trial in range(100000):\n",
        "        if trial % 10000 == 0:\n",
        "            print(f\"{trial // 10000} \", end=\"\")\n",
        "        elapsed_usec = 1000000 * timeit.timeit(test_next_word, number=1)\n",
        "        elapsed_times.append(elapsed_usec)\n",
        "    print()\n",
        "    \n",
        "    results[max_length] = elapsed_times"
      ],
      "execution_count": null,
      "outputs": [
        {
          "output_type": "stream",
          "text": [
            "max_length=5: 0 1 2 3 4 5 6 7 8 9 \n",
            "max_length=6: 0 1 2 3 4 5 6 7 8 9 \n",
            "max_length=7: 0 1 2 3 4 5 6 7 8 9 \n",
            "max_length=8: 0 1 2 3 4 5 6 7 8 9 \n"
          ],
          "name": "stdout"
        }
      ]
    },
    {
      "cell_type": "markdown",
      "metadata": {
        "id": "oZ-uJjdEtGFF",
        "colab_type": "text"
      },
      "source": [
        "And the corresponding data frame looks like this."
      ]
    },
    {
      "cell_type": "code",
      "metadata": {
        "id": "BCqGgkY-uBWd",
        "colab_type": "code",
        "colab": {
          "base_uri": "https://localhost:8080/",
          "height": 297
        },
        "outputId": "76df5563-3fe6-4f1d-94ad-4b18c31e3ae5"
      },
      "source": [
        "udf = pandas.DataFrame(results)\n",
        "udf.describe()"
      ],
      "execution_count": null,
      "outputs": [
        {
          "output_type": "execute_result",
          "data": {
            "text/html": [
              "<div>\n",
              "<style scoped>\n",
              "    .dataframe tbody tr th:only-of-type {\n",
              "        vertical-align: middle;\n",
              "    }\n",
              "\n",
              "    .dataframe tbody tr th {\n",
              "        vertical-align: top;\n",
              "    }\n",
              "\n",
              "    .dataframe thead th {\n",
              "        text-align: right;\n",
              "    }\n",
              "</style>\n",
              "<table border=\"1\" class=\"dataframe\">\n",
              "  <thead>\n",
              "    <tr style=\"text-align: right;\">\n",
              "      <th></th>\n",
              "      <th>5</th>\n",
              "      <th>6</th>\n",
              "      <th>7</th>\n",
              "      <th>8</th>\n",
              "    </tr>\n",
              "  </thead>\n",
              "  <tbody>\n",
              "    <tr>\n",
              "      <th>count</th>\n",
              "      <td>100000.000</td>\n",
              "      <td>100000.000</td>\n",
              "      <td>100000.000</td>\n",
              "      <td>100000.000</td>\n",
              "    </tr>\n",
              "    <tr>\n",
              "      <th>mean</th>\n",
              "      <td>6.229</td>\n",
              "      <td>6.808</td>\n",
              "      <td>7.085</td>\n",
              "      <td>7.449</td>\n",
              "    </tr>\n",
              "    <tr>\n",
              "      <th>std</th>\n",
              "      <td>3.942</td>\n",
              "      <td>6.031</td>\n",
              "      <td>7.944</td>\n",
              "      <td>5.216</td>\n",
              "    </tr>\n",
              "    <tr>\n",
              "      <th>min</th>\n",
              "      <td>4.515</td>\n",
              "      <td>4.578</td>\n",
              "      <td>4.578</td>\n",
              "      <td>4.597</td>\n",
              "    </tr>\n",
              "    <tr>\n",
              "      <th>25%</th>\n",
              "      <td>5.341</td>\n",
              "      <td>5.633</td>\n",
              "      <td>5.736</td>\n",
              "      <td>5.938</td>\n",
              "    </tr>\n",
              "    <tr>\n",
              "      <th>50%</th>\n",
              "      <td>5.835</td>\n",
              "      <td>6.369</td>\n",
              "      <td>6.674</td>\n",
              "      <td>7.081</td>\n",
              "    </tr>\n",
              "    <tr>\n",
              "      <th>75%</th>\n",
              "      <td>6.424</td>\n",
              "      <td>7.111</td>\n",
              "      <td>7.566</td>\n",
              "      <td>8.103</td>\n",
              "    </tr>\n",
              "    <tr>\n",
              "      <th>max</th>\n",
              "      <td>530.290</td>\n",
              "      <td>688.344</td>\n",
              "      <td>1636.946</td>\n",
              "      <td>592.416</td>\n",
              "    </tr>\n",
              "  </tbody>\n",
              "</table>\n",
              "</div>"
            ],
            "text/plain": [
              "                5           6           7           8\n",
              "count  100000.000  100000.000  100000.000  100000.000\n",
              "mean        6.229       6.808       7.085       7.449\n",
              "std         3.942       6.031       7.944       5.216\n",
              "min         4.515       4.578       4.578       4.597\n",
              "25%         5.341       5.633       5.736       5.938\n",
              "50%         5.835       6.369       6.674       7.081\n",
              "75%         6.424       7.111       7.566       8.103\n",
              "max       530.290     688.344    1636.946     592.416"
            ]
          },
          "metadata": {
            "tags": []
          },
          "execution_count": 17
        }
      ]
    },
    {
      "cell_type": "markdown",
      "metadata": {
        "id": "ffbeMXoYuEOA",
        "colab_type": "text"
      },
      "source": [
        "As expected, we have some outliers. Somewhat curiously, the outliers are not as dramatic. Let's again look at some upper quantiles."
      ]
    },
    {
      "cell_type": "code",
      "metadata": {
        "id": "S6zmZG_WuYdq",
        "colab_type": "code",
        "colab": {
          "base_uri": "https://localhost:8080/",
          "height": 359
        },
        "outputId": "4eb0a379-0e7b-4768-8cfc-f0e31f9512c5"
      },
      "source": [
        "udf.describe(percentiles=[0.9, 0.99, 0.999, 0.9999])"
      ],
      "execution_count": null,
      "outputs": [
        {
          "output_type": "execute_result",
          "data": {
            "text/html": [
              "<div>\n",
              "<style scoped>\n",
              "    .dataframe tbody tr th:only-of-type {\n",
              "        vertical-align: middle;\n",
              "    }\n",
              "\n",
              "    .dataframe tbody tr th {\n",
              "        vertical-align: top;\n",
              "    }\n",
              "\n",
              "    .dataframe thead th {\n",
              "        text-align: right;\n",
              "    }\n",
              "</style>\n",
              "<table border=\"1\" class=\"dataframe\">\n",
              "  <thead>\n",
              "    <tr style=\"text-align: right;\">\n",
              "      <th></th>\n",
              "      <th>5</th>\n",
              "      <th>6</th>\n",
              "      <th>7</th>\n",
              "      <th>8</th>\n",
              "    </tr>\n",
              "  </thead>\n",
              "  <tbody>\n",
              "    <tr>\n",
              "      <th>count</th>\n",
              "      <td>100000.000</td>\n",
              "      <td>100000.000</td>\n",
              "      <td>100000.000</td>\n",
              "      <td>100000.000</td>\n",
              "    </tr>\n",
              "    <tr>\n",
              "      <th>mean</th>\n",
              "      <td>6.229</td>\n",
              "      <td>6.808</td>\n",
              "      <td>7.085</td>\n",
              "      <td>7.449</td>\n",
              "    </tr>\n",
              "    <tr>\n",
              "      <th>std</th>\n",
              "      <td>3.942</td>\n",
              "      <td>6.031</td>\n",
              "      <td>7.944</td>\n",
              "      <td>5.216</td>\n",
              "    </tr>\n",
              "    <tr>\n",
              "      <th>min</th>\n",
              "      <td>4.515</td>\n",
              "      <td>4.578</td>\n",
              "      <td>4.578</td>\n",
              "      <td>4.597</td>\n",
              "    </tr>\n",
              "    <tr>\n",
              "      <th>50%</th>\n",
              "      <td>5.835</td>\n",
              "      <td>6.369</td>\n",
              "      <td>6.674</td>\n",
              "      <td>7.081</td>\n",
              "    </tr>\n",
              "    <tr>\n",
              "      <th>90%</th>\n",
              "      <td>6.867</td>\n",
              "      <td>7.712</td>\n",
              "      <td>8.176</td>\n",
              "      <td>8.830</td>\n",
              "    </tr>\n",
              "    <tr>\n",
              "      <th>99%</th>\n",
              "      <td>13.355</td>\n",
              "      <td>14.771</td>\n",
              "      <td>15.570</td>\n",
              "      <td>16.520</td>\n",
              "    </tr>\n",
              "    <tr>\n",
              "      <th>99.9%</th>\n",
              "      <td>32.785</td>\n",
              "      <td>43.524</td>\n",
              "      <td>38.034</td>\n",
              "      <td>42.149</td>\n",
              "    </tr>\n",
              "    <tr>\n",
              "      <th>99.99%</th>\n",
              "      <td>163.706</td>\n",
              "      <td>248.502</td>\n",
              "      <td>202.596</td>\n",
              "      <td>233.729</td>\n",
              "    </tr>\n",
              "    <tr>\n",
              "      <th>max</th>\n",
              "      <td>530.290</td>\n",
              "      <td>688.344</td>\n",
              "      <td>1636.946</td>\n",
              "      <td>592.416</td>\n",
              "    </tr>\n",
              "  </tbody>\n",
              "</table>\n",
              "</div>"
            ],
            "text/plain": [
              "                 5           6           7           8\n",
              "count   100000.000  100000.000  100000.000  100000.000\n",
              "mean         6.229       6.808       7.085       7.449\n",
              "std          3.942       6.031       7.944       5.216\n",
              "min          4.515       4.578       4.578       4.597\n",
              "50%          5.835       6.369       6.674       7.081\n",
              "90%          6.867       7.712       8.176       8.830\n",
              "99%         13.355      14.771      15.570      16.520\n",
              "99.9%       32.785      43.524      38.034      42.149\n",
              "99.99%     163.706     248.502     202.596     233.729\n",
              "max        530.290     688.344    1636.946     592.416"
            ]
          },
          "metadata": {
            "tags": []
          },
          "execution_count": 18
        }
      ]
    },
    {
      "cell_type": "markdown",
      "metadata": {
        "id": "ypSbiGEYucuY",
        "colab_type": "text"
      },
      "source": [
        "It's more difficult to dismiss these larger elapsed times as outliers. Even when we consider 99.9% of the samples in each set, the values aren't _that_ far from the mean or median.\n",
        "\n",
        "Let's plot the KDE to see if it might help us gain some insight."
      ]
    },
    {
      "cell_type": "code",
      "metadata": {
        "id": "R9PtFE0jvQrz",
        "colab_type": "code",
        "colab": {
          "base_uri": "https://localhost:8080/",
          "height": 281
        },
        "outputId": "f0416a75-7402-401c-ed6a-9284b089e3b6"
      },
      "source": [
        "kde_plot = udf.plot.kde(title = \"Kernel Density Estimate\")"
      ],
      "execution_count": null,
      "outputs": [
        {
          "output_type": "display_data",
          "data": {
            "image/png": "[encoded data removed]",
            "text/plain": [
              "<Figure size 432x288 with 1 Axes>"
            ]
          },
          "metadata": {
            "tags": [],
            "needs_background": "light"
          }
        }
      ]
    },
    {
      "cell_type": "markdown",
      "metadata": {
        "id": "1r07S8FRvW-6",
        "colab_type": "text"
      },
      "source": [
        "The KDE definitely shows the effects of the largest outliers. Let's try filtering the elapsed times above the 99.9-th percentile and look at the resulting KDE."
      ]
    },
    {
      "cell_type": "code",
      "metadata": {
        "id": "x_i8XJ5Qv9SD",
        "colab_type": "code",
        "colab": {}
      },
      "source": [
        "udf_filtered = udf.copy()\n",
        "for i in range(5, 9):\n",
        "  udf_filtered.loc[udf_filtered[i] > udf_filtered[i].quantile(0.999), i] = math.nan"
      ],
      "execution_count": null,
      "outputs": []
    },
    {
      "cell_type": "code",
      "metadata": {
        "id": "EQ_edz-lwEvt",
        "colab_type": "code",
        "colab": {
          "base_uri": "https://localhost:8080/",
          "height": 281
        },
        "outputId": "c80b9003-7429-41cd-9b27-d5090e33596d"
      },
      "source": [
        "kde_plot = udf_filtered.plot.kde(title = \"Kernel Density Estimate\")"
      ],
      "execution_count": null,
      "outputs": [
        {
          "output_type": "display_data",
          "data": {
            "image/png": "[encoded data removed]",
            "text/plain": [
              "<Figure size 432x288 with 1 Axes>"
            ]
          },
          "metadata": {
            "tags": [],
            "needs_background": "light"
          }
        }
      ]
    },
    {
      "cell_type": "markdown",
      "metadata": {
        "id": "mP4g4qHEwLAb",
        "colab_type": "text"
      },
      "source": [
        "What this plot tells us is that elapsed times above about 20 microseconds are pretty unlikely. Looking back at the 99th percentile in the table, we can see that 99% of the samples have elapsed times that are quite a bit less than 20 microseconds. So let's filter again, but this time we'll use the 99th percentile."
      ]
    },
    {
      "cell_type": "code",
      "metadata": {
        "id": "MgOjOqBpxAFN",
        "colab_type": "code",
        "colab": {}
      },
      "source": [
        "udf_filtered = udf.copy()\n",
        "for i in range(5, 9):\n",
        "  udf_filtered.loc[udf_filtered[i] > udf_filtered[i].quantile(0.99), i] = math.nan"
      ],
      "execution_count": null,
      "outputs": []
    },
    {
      "cell_type": "code",
      "metadata": {
        "id": "cFAMJsZmxDbC",
        "colab_type": "code",
        "colab": {
          "base_uri": "https://localhost:8080/",
          "height": 281
        },
        "outputId": "86a55181-5ef4-421e-df5a-af186cbff88b"
      },
      "source": [
        "kde_plot = udf_filtered.plot.kde(title = \"Kernel Density Estimate\")"
      ],
      "execution_count": null,
      "outputs": [
        {
          "output_type": "display_data",
          "data": {
            "image/png": "[encoded data removed]",
            "text/plain": [
              "<Figure size 432x288 with 1 Axes>"
            ]
          },
          "metadata": {
            "tags": [],
            "needs_background": "light"
          }
        }
      ]
    },
    {
      "cell_type": "markdown",
      "metadata": {
        "id": "rX2o671TxGib",
        "colab_type": "text"
      },
      "source": [
        "With the largest outliers removed, we now we can see that the distribution is generally pretty tall and narrow much like it was for successful searches. Most of the area under these curves falls between about 5 microseconds and and 10 microseconds; i.e. most unsuccessful searches will have elapsed times in that range. We see a lot more variation within that range. \n",
        "\n",
        "As we discussed previously, a common approach to a Set implementation is an array of linked lists. The time complexity of finding the correct bucket in the array for a given input is always _O(1)_. If, as a function of the quality of the hash, and the number of elements in the set, most words in the set are in different buckets, we would expect unsuccessful searches to have elapsed times approximately the same as unsuccessful searches. \n",
        "\n",
        "However, if the hash function tends to produce collisions (in which one or more distinct words hash to the value) or if the table size is such that distinct hashes end up in the same bucket (hash modulo table size), then the time required for an unsuccessful search varies depending on the length of the linked list associated with the target array bucket and the search algorithm used for the linked list. Typically, if the items in the set are orderable, the list for each array bucket is ordered, and the time complexity of searching it is therefore _O(k/2)_ where _k_ is the size of the list. Again as a function of hash algorithm and table size, _k_ is generally much smaller than the number of elements in the set.\n",
        "\n",
        "#### So what does this analysis tell us about unsuccessful searches?\n",
        "\n",
        "We've learned that unsuccessful searches of a Set data structure in Python have near constant time performance over a range of different dictionary sizes, just as we saw for successful searches. The size of the dictionary has little to no impact. Unsuccessful searches take longer than successful searches, but by a relatively small multiple of the time required for a successful search."
      ]
    },
    {
      "cell_type": "markdown",
      "metadata": {
        "id": "0o-FMWmf0-n0",
        "colab_type": "text"
      },
      "source": [
        "## Conclusions\n",
        "\n",
        "The elapsed time for a search of a hash-based set of dictionary words (using Python) on current generation processors will typically be less than 10 µsec. If we consider all substrings of our eight character identifiers that are at least three characters in length, we will need to perform at most 21 such searches to determine that a randomly generated identifier does not contain a dictionary word. This would take approximately 210 µsec; considerably less than one millisecond. This is insignificant in the context in which such identifiers need to be generated.\n",
        "\n",
        "The probability of finding matches for dictionary words of length 3 is about 1 in 32,000. Each eight-character identifier contains six substrings of length 3, any of which could be a match for a dictionary word. Therefore the probability of finding a three-letter dictionary word in a given randomly generated identifier is about 6 in 32,000 or about 1 in 5,300. In other words if we generate approximately 10,000 random identifiers, we would expect to reject a couple of them because they contain a word. \n",
        "\n",
        "When we reject an identifier, we must discard it and generate another. But since this won't happen often, it does not appreciably change the average time to generate an identifier that does not contain a dictionary word.\n",
        "\n",
        "The size of the dictionary has neglible impact on performance when considering words of up to eight characters in length. The size of the dictionary containing words of length 3 to 8 is approximately 1 MiB which is not significant in the context of the classes of machines that would be used for this purpose. However, given the vanishingly small probability of randomly generating a dictionary word that is 6, 7, or 8 characters in length, using a dictionary with a maximum word size of 5 would be sensible and would require one tenth of the memory required for a dictionary with a maximum word size of 8 characters. For another approximately 150 KiB we could include six letter words (for which our probability of generating is about 1 in a billion)."
      ]
    },
    {
      "cell_type": "markdown",
      "metadata": {
        "id": "8qX5Ao9Qlng5",
        "colab_type": "text"
      },
      "source": [
        "### Other Musings"
      ]
    },
    {
      "cell_type": "markdown",
      "metadata": {
        "id": "bkIZEx7vliVc",
        "colab_type": "text"
      },
      "source": [
        "#### But Aren't We Using Java?\n",
        "\n",
        "Good point. If you look at the source code for the implementation of the `HashSet` type in Java, you'll find that a `HashSet` is a subtype of `HashMap` in which the values are irrelevant (only the keys matter). And you'll discover that a Java `HashMap` is implemented as a hash table in which each bucket is a linked list. Each element in the list consists of a key and a reference to the corresponding value (since it's a map). Sound familiar?\n",
        "\n",
        "The implementation in Python is very similar. The hash functions used for strings are also quite similar between the two languages. Bottom line, our results with a Java implementation of these ideas should be very similar although likely faster in absolute terms, simply because the statically-typed Java runtime is faster.\n",
        "\n",
        "Of course, nothing tells the story better than real data. I made an equivalent measurement test for a Java implementation of a dictionary search and produced elapsed time results for both successful and random (mostly unsuccessful) searches. \n",
        "\n",
        "Let's quickly look at the random search results. The results are in CSV datafiles with columns that contain the results for maximum word lengths of 5 through 8 and elapsed times in nanoseconds (because that's what Java's `System.nanoTime` produces). We can load the CSV data using the `read_csv` function of Pandas and then scale the resulting data frame to microseconds."
      ]
    },
    {
      "cell_type": "code",
      "metadata": {
        "id": "-ikcXAz49mtH",
        "colab_type": "code",
        "colab": {
          "base_uri": "https://localhost:8080/",
          "height": 328
        },
        "outputId": "2c528b2b-f21c-4f0a-dda3-f7a330bccb8a"
      },
      "source": [
        "import gzip\n",
        "with gzip.open(\"resources/random-search-results-java11.csv.gz\", \"rt\") as results:\n",
        "    jrdf = pandas.read_csv(results, header=None, names=[5,6,7,8])\n",
        "for i in range(5, 9):\n",
        "  jrdf[i] = jrdf[i] / 1000\n",
        "\n",
        "jrdf.describe(percentiles=[0.9, 0.99, 0.999])"
      ],
      "execution_count": null,
      "outputs": [
        {
          "output_type": "execute_result",
          "data": {
            "text/html": [
              "<div>\n",
              "<style scoped>\n",
              "    .dataframe tbody tr th:only-of-type {\n",
              "        vertical-align: middle;\n",
              "    }\n",
              "\n",
              "    .dataframe tbody tr th {\n",
              "        vertical-align: top;\n",
              "    }\n",
              "\n",
              "    .dataframe thead th {\n",
              "        text-align: right;\n",
              "    }\n",
              "</style>\n",
              "<table border=\"1\" class=\"dataframe\">\n",
              "  <thead>\n",
              "    <tr style=\"text-align: right;\">\n",
              "      <th></th>\n",
              "      <th>5</th>\n",
              "      <th>6</th>\n",
              "      <th>7</th>\n",
              "      <th>8</th>\n",
              "    </tr>\n",
              "  </thead>\n",
              "  <tbody>\n",
              "    <tr>\n",
              "      <th>count</th>\n",
              "      <td>100000.000</td>\n",
              "      <td>100000.000</td>\n",
              "      <td>100000.000</td>\n",
              "      <td>100000.000</td>\n",
              "    </tr>\n",
              "    <tr>\n",
              "      <th>mean</th>\n",
              "      <td>0.274</td>\n",
              "      <td>0.253</td>\n",
              "      <td>0.307</td>\n",
              "      <td>0.254</td>\n",
              "    </tr>\n",
              "    <tr>\n",
              "      <th>std</th>\n",
              "      <td>4.724</td>\n",
              "      <td>10.508</td>\n",
              "      <td>6.333</td>\n",
              "      <td>8.777</td>\n",
              "    </tr>\n",
              "    <tr>\n",
              "      <th>min</th>\n",
              "      <td>0.040</td>\n",
              "      <td>0.025</td>\n",
              "      <td>0.026</td>\n",
              "      <td>0.026</td>\n",
              "    </tr>\n",
              "    <tr>\n",
              "      <th>50%</th>\n",
              "      <td>0.131</td>\n",
              "      <td>0.097</td>\n",
              "      <td>0.146</td>\n",
              "      <td>0.118</td>\n",
              "    </tr>\n",
              "    <tr>\n",
              "      <th>90%</th>\n",
              "      <td>0.276</td>\n",
              "      <td>0.236</td>\n",
              "      <td>0.337</td>\n",
              "      <td>0.276</td>\n",
              "    </tr>\n",
              "    <tr>\n",
              "      <th>99%</th>\n",
              "      <td>0.566</td>\n",
              "      <td>0.453</td>\n",
              "      <td>0.616</td>\n",
              "      <td>0.513</td>\n",
              "    </tr>\n",
              "    <tr>\n",
              "      <th>99.9%</th>\n",
              "      <td>22.336</td>\n",
              "      <td>6.924</td>\n",
              "      <td>17.319</td>\n",
              "      <td>8.102</td>\n",
              "    </tr>\n",
              "    <tr>\n",
              "      <th>max</th>\n",
              "      <td>831.001</td>\n",
              "      <td>2045.567</td>\n",
              "      <td>998.556</td>\n",
              "      <td>2176.310</td>\n",
              "    </tr>\n",
              "  </tbody>\n",
              "</table>\n",
              "</div>"
            ],
            "text/plain": [
              "                5           6           7           8\n",
              "count  100000.000  100000.000  100000.000  100000.000\n",
              "mean        0.274       0.253       0.307       0.254\n",
              "std         4.724      10.508       6.333       8.777\n",
              "min         0.040       0.025       0.026       0.026\n",
              "50%         0.131       0.097       0.146       0.118\n",
              "90%         0.276       0.236       0.337       0.276\n",
              "99%         0.566       0.453       0.616       0.513\n",
              "99.9%      22.336       6.924      17.319       8.102\n",
              "max       831.001    2045.567     998.556    2176.310"
            ]
          },
          "metadata": {
            "tags": []
          },
          "execution_count": 24
        }
      ]
    },
    {
      "cell_type": "markdown",
      "metadata": {
        "id": "af3ky4YPBCnM",
        "colab_type": "text"
      },
      "source": [
        "Not so surprisingly, there appear to be some outliers. However, even before excluding the outliers, we can already see that the Java version is _significantly_ faster.\n",
        "\n",
        "Watching the Java version execute in a profiler, it seems pretty clear that some of the variation is due to overhead from classloading, especially when first starting. Some appears to be from heap management, as well. Looking at the upper quantiles, it seems we'd be justified in not including the elapsed times that are above the 99th percentile. Let's do that transformation and then plot the KDE."
      ]
    },
    {
      "cell_type": "code",
      "metadata": {
        "id": "KXNgdsUE_1d5",
        "colab_type": "code",
        "colab": {
          "base_uri": "https://localhost:8080/",
          "height": 281
        },
        "outputId": "fc6f07dc-94ba-4cc4-d38a-86ce9a20dc27"
      },
      "source": [
        "jrdf_filtered = jrdf.copy()\n",
        "for i in range(5, 9):\n",
        "  jrdf_filtered.loc[jrdf_filtered[i] > jrdf_filtered[i].quantile(0.99), i] = math.nan\n",
        "jrdf_filtered.describe(percentiles=[0.90, 0.99])\n",
        "kde_plot = jrdf_filtered.plot.kde(title = \"Kernel Density Estimate\")"
      ],
      "execution_count": null,
      "outputs": [
        {
          "output_type": "display_data",
          "data": {
            "image/png": "[encoded data removed]",
            "text/plain": [
              "<Figure size 432x288 with 1 Axes>"
            ]
          },
          "metadata": {
            "tags": [],
            "needs_background": "light"
          }
        }
      ]
    },
    {
      "cell_type": "markdown",
      "metadata": {
        "id": "v4knQsD-Bzlg",
        "colab_type": "text"
      },
      "source": [
        "Unlike the previous KDE plots, these distributions appear to be far more Exponential than Normal. However, the net conclusion is still the same. This will work as well (or better) in Java than it did in our Python examples."
      ]
    },
    {
      "cell_type": "markdown",
      "metadata": {
        "id": "w8KKctrOc7yO",
        "colab_type": "text"
      },
      "source": [
        "#### Can I Buy a Vowel?\n",
        "\n",
        "Please pardon the gratiutous _Wheel of Fortune_ reference.\n",
        "\n",
        "Another suggested approach to solving the problem of recognizable words in our identifiers is to eliminate all of the vowels from the symbol set used to generate identifiers. As mentioned previously, the symbol set used by our identifiers is a Base-32 symbol set which contains letters A-Z and digits 2-7. What if, when selecting random characters to use for an identifier, we excluded all of the vowels (A, E, I, O, U)? The vowels are still in the Base-32 symbol set, so an identifier using them would still be valid, but generated identifiers would never contain them (almost).\n",
        "\n",
        "Identifiers in Summit start with a letter that designates a _namespace_; proposal identifiers start with `P`, agreement identifiers start with `A`, etc. The next six characters are randomly selected from the Base-32 alphabet. The eighth and final character is generated using an adaptation of the [Luhn Algorithm](https://en.wikipedia.org/wiki/Luhn_algorithm) computed using all of the first seven characters in the identifier. The adaptation uses base-32 instead of base-10, so the resulting check digit is a base-32 symbol from the same symbol set. This approach of generating identifiers provides $32^6 = 1,073,741,824$ possible identifiers in each namespace because there are 6 characters in the identifier that can use any of 32 possible symbol choices.\n",
        "\n",
        "If we eliminate all five vowels as possible choices for each identifier, then the number of possible identifiers is reduced to $27^6 = 387,420,489$. That's still pretty big, right? It is but by eliminating about 63% of the symbol space, we've also increased the likelihood of _collisions_. A collision occurs when we generate an random identifier and then subsequently determine that it is already in use. \n",
        "\n",
        "Is the greater potential for collisions a problem? _Maybe_. Probably not right now, but imagine what happens after we've used about a hundred thousand identifiers in a given space. Then our probability for a collision will be about 1 in 3,000 instead of about 1 in \n",
        "10,000 (which it would be if were using all of the vowels too). That might be a little too tight for comfort.\n",
        "\n",
        "Eliminating the vowels is certainly not an idea that we should dismiss out of hand, but if the cost of implementing our dictionary search is small, it has a much less significant impact on the total size of a given identifier namespace. \n",
        "\n",
        "You might be wondering why I said _almost_; that we would _almost_ eliminate vowels in identifiers. The Luhn check \"digit\" at the end of the identifier could (and more often than not would) be a vowel. That probably doesn't create new opportunities for offensive words, unless you already have a problem with _ho_ or _fu_. 😉\n",
        "\n",
        "If you're looking for a fun challenge, you might ponder ways to estimate how much of the namespace is lost by eliminating identifiers that contain recognizable words. It's far smaller than what is lost by eliminating vowels, but how much smaller?\n",
        "\n",
        "\n",
        "\n",
        "\n"
      ]
    },
    {
      "cell_type": "markdown",
      "metadata": {
        "id": "RMJJNn6Dlvni",
        "colab_type": "text"
      },
      "source": [
        "#### Look-alike Digits\n",
        "When the Division of Motor Vehicles runs your desired vanity license plate string through their \"objectionable plates\" algorithm, they also exclude clever uses of digits as letters. Say you're a big [James Bond](https://en.wikipedia.org/wiki/James_Bond) fan and you'd like to immortalize your fascination with actress [Honor Blackman](https://en.wikipedia.org/wiki/Honor_Blackman) and her role as [Pussy Galore](https://en.wikipedia.org/wiki/Pussy_Galore) in the movie _Goldfinger_. If you think you're getting `PU55Y` on your license plate, you're probably going to be disappointed.\n",
        "\n",
        "We can easily handle look-alike digits with the previously described search for identifier substrings using a dictionary. When we produce an identifier string, instead of searching for substrings of the actual identifier, we instead create a variant in which we've substituted all of the look-alike digits for the equivalent letter. We do our substring searches using this variant instead of the original identifier.\n",
        "\n",
        "Sometimes the same digit can stand in for several different letters. In this case we need more than one variant and the bifurcations could start adding up, but it's probably still do-able.\n"
      ]
    }
  ]
}